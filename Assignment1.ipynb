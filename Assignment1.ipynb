{
 "cells": [
  {
   "cell_type": "code",
   "execution_count": 7,
   "metadata": {},
   "outputs": [
    {
     "name": "stdout",
     "output_type": "stream",
     "text": [
      "Twinkle,twinkle,little star,\n",
      "      How I wonder what you are!\n",
      "               up above the world so high,\n",
      "              like the diamond in the sky.\n",
      "Twinkle,twinkle,little star,\n",
      "      How I wonder what you are!\n"
     ]
    }
   ],
   "source": [
    "#ASSIGNMENT \n",
    "#PROGRAM 1: create a program to print the following string in specific format.\n",
    "print(\"Twinkle,\" +\"\"+\"twinkle,\"+\"\"+\"little star,\")\n",
    "print(\"      How I wonder what you are!\" )\n",
    "print(   \"               up above the world so high,\" )\n",
    "print( \"              like the diamond in the sky.\")\n",
    "print(   \"Twinkle,\" +\"\"+\"twinkle,\"+\"\"+\"little star,\")\n",
    "print(  \"      How I wonder what you are!\"  )\n"
   ]
  },
  {
   "cell_type": "code",
   "execution_count": 10,
   "metadata": {},
   "outputs": [
    {
     "name": "stdout",
     "output_type": "stream",
     "text": [
      "input python version you are using3.7.2\n",
      "3.7.2\n"
     ]
    }
   ],
   "source": [
    "#PROGRAM 2:write a program to get the python version you are using\n",
    "python_version=input(\"input python version you are using\")\n",
    "print(python_version)\n"
   ]
  },
  {
   "cell_type": "code",
   "execution_count": 24,
   "metadata": {},
   "outputs": [
    {
     "name": "stdout",
     "output_type": "stream",
     "text": [
      "enter current date3-NOV-2019\n",
      "enter current time12:00 pm\n",
      "3-NOV-2019   12:00 pm\n"
     ]
    }
   ],
   "source": [
    "#PROGRAM 3:write a program to display the current date and time.\n",
    "date=input(\"enter current date\")\n",
    "time=input(\"enter current time\")\n",
    "print(date +\"   \" +time)\n"
   ]
  },
  {
   "cell_type": "code",
   "execution_count": 18,
   "metadata": {},
   "outputs": [
    {
     "name": "stdout",
     "output_type": "stream",
     "text": [
      "enter radius of the circle5\n",
      "area is\n",
      "78.5\n"
     ]
    }
   ],
   "source": [
    "#PROGRAM 4:write a program which accepts the radius of a circle from the user and comput the program.\n",
    "r=int(input(\"enter radius of the circle\"))\n",
    "area=3.14*r*r\n",
    "print(\"area is\")\n",
    "print(area)"
   ]
  },
  {
   "cell_type": "code",
   "execution_count": 20,
   "metadata": {},
   "outputs": [
    {
     "name": "stdout",
     "output_type": "stream",
     "text": [
      "muhammad ali\n"
     ]
    }
   ],
   "source": [
    "# PROGRAM 5: write a program which accepts the user first and last name and print in reverse order with space.\n",
    "first_name=\"ali\"\n",
    "last_name=\"muhammad\"\n",
    "full_name=last_name+\" \"+first_name\n",
    "print(full_name)"
   ]
  },
  {
   "cell_type": "code",
   "execution_count": 21,
   "metadata": {},
   "outputs": [
    {
     "name": "stdout",
     "output_type": "stream",
     "text": [
      "11\n"
     ]
    }
   ],
   "source": [
    "# PROGRAM 6:write a program which takes two number from user and print them in addition\n",
    "num_1=5\n",
    "num_2=6\n",
    "add=num_1+num_2\n",
    "print(add)"
   ]
  },
  {
   "cell_type": "code",
   "execution_count": null,
   "metadata": {},
   "outputs": [],
   "source": []
  }
 ],
 "metadata": {
  "kernelspec": {
   "display_name": "Python 3",
   "language": "python",
   "name": "python3"
  },
  "language_info": {
   "codemirror_mode": {
    "name": "ipython",
    "version": 3
   },
   "file_extension": ".py",
   "mimetype": "text/x-python",
   "name": "python",
   "nbconvert_exporter": "python",
   "pygments_lexer": "ipython3",
   "version": "3.7.4"
  }
 },
 "nbformat": 4,
 "nbformat_minor": 2
}
